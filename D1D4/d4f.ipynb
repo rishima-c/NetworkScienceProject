{
 "cells": [
  {
   "cell_type": "code",
   "execution_count": 27,
   "id": "74d9ca7e",
   "metadata": {},
   "outputs": [],
   "source": [
    "import pandas as pd\n",
    "import networkx as nx\n",
    "from itertools import combinations,permutations\n",
    "from networkx.algorithms.community import greedy_modularity_communities"
   ]
  },
  {
   "cell_type": "markdown",
   "id": "20e1448d",
   "metadata": {},
   "source": [
    "cleaning and loading data"
   ]
  },
  {
   "cell_type": "code",
   "execution_count": 28,
   "id": "2b6185e8",
   "metadata": {},
   "outputs": [
    {
     "name": "stdout",
     "output_type": "stream",
     "text": [
      "Graphs loaded:\n",
      "Friendship: 134 nodes, 668 edges\n",
      "Physical: 327 nodes, 5818 edges\n",
      "Diary: 120 nodes, 502 edges\n",
      "Facebook: 156 nodes, 4515 edges\n",
      "Metadata loaded for 329 students.\n"
     ]
    }
   ],
   "source": [
    "\n",
    "\n",
    "def safecast(val, to_type=int, default=None):\n",
    "    try:\n",
    "        return to_type(val)\n",
    "    except (ValueError, TypeError):\n",
    "        return default\n",
    "\n",
    "friendshp_df = pd.read_csv('Friendship-network_data_2013_CLEANED.csv', sep='\\t')\n",
    "G_fren = nx.DiGraph()\n",
    "for row in friendshp_df.itertuples(index=False):\n",
    "    u, v = int(row.i), int(row.j)\n",
    "    G_fren.add_edge(u, v)\n",
    "\n",
    "\n",
    "physa_contacts_df = pd.read_csv('High-School_data_2013_CLEANED.csv', sep='\\t')\n",
    "G_physa = nx.Graph()\n",
    "physa_edges = physa_contacts_df[['i', 'j']].astype(int).drop_duplicates().values\n",
    "G_physa.add_edges_from(physa_edges)\n",
    "\n",
    "contactdiary_df = pd.read_csv('Contact-diaries-network_data_2013_CLEANED.csv', sep='\\t')\n",
    "G_cdiary = nx.DiGraph()\n",
    "for row in contactdiary_df.itertuples(index=False):\n",
    "    G_cdiary.add_edge(int(row.i), int(row.j), weight=int(row.w))\n",
    "\n",
    "\n",
    "fb_df = pd.read_csv('Facebook-known-pairs_data_2013_CLEANED.csv', sep='\\t')\n",
    "G_fbzucc = nx.Graph()\n",
    "for row in fb_df.itertuples(index=False):\n",
    "    u, v, w = int(row.i), int(row.j), int(row.w)\n",
    "    G_fbzucc.add_edge(u, v, weight=w)\n",
    "\n",
    "\n",
    "def create_metadata_dict(df):\n",
    "    return df.set_index('ID').to_dict(orient='index')\n",
    "\n",
    "metadata_df = pd.read_csv('mt actual.txt', sep='\\t', header=None, names=['ID', 'Class', 'Gender'])\n",
    "metadata_df_copy = metadata_df.copy()\n",
    "metadata_dict = create_metadata_dict(metadata_df_copy)\n",
    "\n",
    "\n",
    "metadata_count = 0\n",
    "for x in metadata_dict:\n",
    "    metadata_count += 1\n",
    "\n",
    "print(\"Graphs loaded:\")\n",
    "print(f\"Friendship: {G_fren.number_of_nodes()} nodes, {G_fren.number_of_edges()} edges\")\n",
    "print(f\"Physical: {G_physa.number_of_nodes()} nodes, {G_physa.number_of_edges()} edges\")\n",
    "print(f\"Diary: {G_cdiary.number_of_nodes()} nodes, {G_cdiary.number_of_edges()} edges\")\n",
    "print(f\"Facebook: {G_fbzucc.number_of_nodes()} nodes, {G_fbzucc.number_of_edges()} edges\")\n",
    "print(f\"Metadata loaded for {metadata_count} students.\")\n"
   ]
  },
  {
   "cell_type": "markdown",
   "id": "fc407b8a",
   "metadata": {},
   "source": [
    "P1: Triads and friendship vs real life contact"
   ]
  },
  {
   "cell_type": "markdown",
   "id": "51711013",
   "metadata": {},
   "source": [
    "Physical triads"
   ]
  },
  {
   "cell_type": "code",
   "execution_count": 37,
   "id": "d06bd92b",
   "metadata": {},
   "outputs": [
    {
     "name": "stdout",
     "output_type": "stream",
     "text": [
      "Number of physical triads found: 34220\n"
     ]
    }
   ],
   "source": [
    "triAds = set()\n",
    "\n",
    "for n in G_physa.nodes():\n",
    "    neighbors = list(G_physa.neighbors(n))\n",
    "    for i in range(len(neighbors)):\n",
    "        for j in range(i + 1, len(neighbors)):\n",
    "            n1, n2 = neighbors[i], neighbors[j]\n",
    "            if G_physa.has_edge(n1, n2):\n",
    "                triAds.add(tuple(sorted((n, n1, n2))))\n",
    "\n",
    "triAds = list(triAds)\n",
    "print(f\"Number of physical triads found: {len(triAds)}\")\n"
   ]
  },
  {
   "cell_type": "markdown",
   "id": "f9107d11",
   "metadata": {},
   "source": [
    "fully and partially reciprocal triads in contact diaries"
   ]
  },
  {
   "cell_type": "code",
   "execution_count": 30,
   "id": "7b277f00",
   "metadata": {},
   "outputs": [
    {
     "name": "stdout",
     "output_type": "stream",
     "text": [
      "Contact diary Graph:\n",
      "Fully reciprocal triads: 47\n",
      "Partly reciprocal triads: 104\n",
      "Example (fully reciprocal triads): [(15, 21, 826), (177, 400, 945), (400, 428, 945), (245, 502, 691), (3, 147, 407)]\n",
      "Example (partly reciprocal triads): [(268, 407, 504), (211, 448, 845), (177, 400, 984), (106, 272, 587), (502, 634, 869)]\n"
     ]
    }
   ],
   "source": [
    "\n",
    "\n",
    "f_rec_cd_triads = set()\n",
    "p_rec_cd_triads = set()\n",
    "\n",
    "ndiary = list(G_cdiary.nodes())\n",
    "\n",
    "# checking all perm in all combs to make sure nothing is missed\n",
    "for trio in combinations(ndiary, 3):\n",
    "    found = False  \n",
    "    \n",
    "    for perm in permutations(trio, 3):\n",
    "        a, b, c = perm\n",
    "\n",
    "        \n",
    "        cycle = (\n",
    "            G_cdiary.has_edge(a, b) and\n",
    "            G_cdiary.has_edge(b, c) and\n",
    "            G_cdiary.has_edge(c, a)\n",
    "        )\n",
    "        \n",
    "        if cycle:\n",
    "            ab_rec = G_cdiary.has_edge(b, a)\n",
    "            bc_rec = G_cdiary.has_edge(c, b)\n",
    "            ca_rec = G_cdiary.has_edge(a, c)\n",
    "\n",
    "            tsorted = tuple(sorted((a, b, c)))\n",
    "\n",
    "            if ab_rec and bc_rec and ca_rec:\n",
    "                f_rec_cd_triads.add(tsorted)\n",
    "            else:\n",
    "                p_rec_cd_triads.add(tsorted)\n",
    "\n",
    "            found = True\n",
    "            break  \n",
    "\n",
    "#printing the results yipeeee\n",
    "print(f\"Contact diary Graph:\")\n",
    "print(f\"Fully reciprocal triads: {len(f_rec_cd_triads)}\")\n",
    "print(f\"Partly reciprocal triads: {len(p_rec_cd_triads)}\")\n",
    "print(\"Example (fully reciprocal triads):\", list(f_rec_cd_triads)[:5])\n",
    "print(\"Example (partly reciprocal triads):\", list(p_rec_cd_triads)[:5])\n"
   ]
  },
  {
   "cell_type": "markdown",
   "id": "d41e1d65",
   "metadata": {},
   "source": [
    "fully and partially reciprocal triads in friendship"
   ]
  },
  {
   "cell_type": "code",
   "execution_count": 31,
   "id": "21687832",
   "metadata": {},
   "outputs": [
    {
     "name": "stdout",
     "output_type": "stream",
     "text": [
      "Friendship Graph:\n",
      "Fully reciprocal triads: 200\n",
      "Partly reciprocal triads: 146\n",
      "Example (fully reciprocal triads): [(147, 407, 674), (45, 79, 674), (70, 101, 132), (222, 343, 867), (55, 883, 894)]\n",
      "Example (partly reciprocal triads): [(72, 147, 674), (45, 388, 496), (28, 327, 353), (325, 622, 624), (170, 265, 883)]\n"
     ]
    }
   ],
   "source": [
    "\n",
    "\n",
    "\n",
    "f_rec_fs_triads = set()\n",
    "p_rec_fs_triads = set()\n",
    "\n",
    "# checking all perm in all combs to make sure nothing is missed\n",
    "nfriend = list(G_fren.nodes())\n",
    "for trio in combinations(nfriend, 3):\n",
    "    for perm in permutations(trio, 3):\n",
    "        a, b, c = perm\n",
    "\n",
    "        \n",
    "        cycle = (\n",
    "            G_fren.has_edge(a, b) and\n",
    "            G_fren.has_edge(b, c) and\n",
    "            G_fren.has_edge(c, a)\n",
    "        )\n",
    "\n",
    "        if cycle:\n",
    "           \n",
    "            ab_recip = G_fren.has_edge(b, a)\n",
    "            bc_recip = G_fren.has_edge(c, b)\n",
    "            ca_recip = G_fren.has_edge(a, c)\n",
    "\n",
    "            tsorted = tuple(sorted((a, b, c)))\n",
    "\n",
    "            if ab_recip and bc_recip and ca_recip:\n",
    "                f_rec_fs_triads.add(tsorted)\n",
    "            else:\n",
    "                p_rec_fs_triads.add(tsorted)\n",
    "\n",
    "            break  \n",
    "\n",
    "#printing the results yipeeee\n",
    "print(f\"Friendship Graph:\")\n",
    "print(f\"Fully reciprocal triads: {len(f_rec_fs_triads)}\")\n",
    "print(f\"Partly reciprocal triads: {len(p_rec_fs_triads)}\")\n",
    "print(\"Example (fully reciprocal triads):\",\n",
    "      list(f_rec_fs_triads)[:5])\n",
    "print(\"Example (partly reciprocal triads):\",\n",
    "      list(p_rec_fs_triads)[:5])\n"
   ]
  },
  {
   "cell_type": "markdown",
   "id": "4f29ef83",
   "metadata": {},
   "source": [
    "finding overlap"
   ]
  },
  {
   "cell_type": "code",
   "execution_count": 40,
   "id": "371633f1",
   "metadata": {},
   "outputs": [
    {
     "name": "stdout",
     "output_type": "stream",
     "text": [
      " Overlap of fully reciprocal triads in contact diary and friendship graphs:\n",
      "Total in Diary: 47\n",
      "Total in Friendship: 200\n",
      "Only 9 (4.50%) for friends actually mutually reported meeting each other physically too.\n",
      "Example overlapping triads: [(634, 691, 1332), (3, 147, 407), (425, 101, 119), (520, 576, 605), (240, 425, 101)]\n"
     ]
    }
   ],
   "source": [
    "cdt_set = set(frozenset(triad) for triad in f_rec_cd_triads)\n",
    "fst_set = set(frozenset(triad) for triad in f_rec_fs_triads)\n",
    "common_fully_reciprocal_triads = cdt_set.intersection(fst_set)\n",
    "\n",
    "\n",
    "print(f\" Overlap of fully reciprocal triads in contact diary and friendship graphs:\")\n",
    "print(f\"Total in Diary: {len(cdt_set)}\")\n",
    "print(f\"Total in Friendship: {len(fst_set)}\")\n",
    "print(f\"Only {len(common_fully_reciprocal_triads)} ({(len(common_fully_reciprocal_triads)/len(fst_set)*100 if fst_set else 0):.2f}%) for friends actually mutually reported meeting each other physically too.\")\n",
    "print(\"Example overlapping triads:\", [tuple(triad) for triad in list(common_fully_reciprocal_triads)[:5]])\n"
   ]
  },
  {
   "cell_type": "markdown",
   "id": "0df0dcbd",
   "metadata": {},
   "source": [
    "\n",
    "\n",
    "average edge weight fully reciprocal vs whole graph"
   ]
  },
  {
   "cell_type": "code",
   "execution_count": 33,
   "id": "e6eb2192",
   "metadata": {},
   "outputs": [
    {
     "name": "stdout",
     "output_type": "stream",
     "text": [
      "Average edge weight of the entire diary graph: 2.89\n",
      " Average of triad average weights: 3.22\n"
     ]
    }
   ],
   "source": [
    "# Finding if mutual triads spend more time together than the average person-to-person edge\n",
    "\n",
    "triadAvgWeights = []  \n",
    "\n",
    "for triad in common_fully_reciprocal_triads:\n",
    "    nodeA, nodeB, nodeC = triad \n",
    "\n",
    "    \n",
    "    edgeList = [\n",
    "        (nodeA, nodeB), (nodeB, nodeA),\n",
    "        (nodeB, nodeC), (nodeC, nodeB),\n",
    "        (nodeC, nodeA), (nodeA, nodeC)\n",
    "    ]\n",
    "\n",
    "    edgeWeights = [] \n",
    "   \n",
    "    for fromNode, toNode in edgeList:\n",
    "        if G_cdiary.has_edge(fromNode, toNode):\n",
    "            weightValue = G_cdiary[fromNode][toNode]['weight']\n",
    "            edgeWeights.append(weightValue)\n",
    "        else:\n",
    "           \n",
    "            edgeWeights.append(0)\n",
    "\n",
    "   \n",
    "    sumOfWeights = sum(edgeWeights)  \n",
    "    avgWeightTriad = sumOfWeights / len(edgeWeights)\n",
    "\n",
    "    triadAvgWeights.append({\n",
    "        'triadNodes': tuple(map(int, triad)),\n",
    "        'avgWeight': avgWeightTriad,\n",
    "        'allEdgeWeights': edgeWeights\n",
    "    })\n",
    "\n",
    "\n",
    "allEdgeWeightsList = [d['weight'] for i, j, d in G_cdiary.edges(data=True)]\n",
    "totalEdgeCount = len(allEdgeWeightsList)\n",
    "avgWeightWholeGraph = sum(allEdgeWeightsList) / totalEdgeCount if totalEdgeCount else 0\n",
    "\n",
    "print(f\"Average edge weight of the entire diary graph: {round(avgWeightWholeGraph, 2)}\")\n",
    "\n",
    "if triadAvgWeights:\n",
    "    totalTriads = len(triadAvgWeights)\n",
    "    avgOfTriads = sum(item['avgWeight'] for item in triadAvgWeights) / totalTriads\n",
    "    print(f\" Average of triad average weights: {round(avgOfTriads, 2)}\")\n",
    "else:\n",
    "    print(\" 0 triads to compare.\")\n"
   ]
  },
  {
   "cell_type": "markdown",
   "id": "a093a614",
   "metadata": {},
   "source": [
    "Part 2: Finding echo chambers"
   ]
  },
  {
   "cell_type": "code",
   "execution_count": 34,
   "id": "7a67d759",
   "metadata": {},
   "outputs": [
    {
     "name": "stdout",
     "output_type": "stream",
     "text": [
      "Found 1 possible echo chambers.\n",
      "\n",
      "Echo Chamber 1:\n",
      "  Group: [124, 471, 970]\n",
      "  Size: 3\n",
      "  Density: 1.0\n",
      "  Reciprocity: 0.5\n",
      "  Leak Ratio: 0.0\n",
      "  Edges Inside: 6\n",
      "  Outgoing Links: 0\n",
      "  Incoming Links: 0\n"
     ]
    }
   ],
   "source": [
    "def detect_echo_chambers_directed(G_friend, min_group_size=3, min_density=0.8, max_outside_ratio=0.1, min_mutuality=0.5):\n",
    "    echos = []\n",
    "\n",
    "    # UD for clusters\n",
    "    clusters = list(greedy_modularity_communities(G_friend.to_undirected()))\n",
    "\n",
    "    for clust in clusters:\n",
    "        members = set(clust)\n",
    "        num_people = len(members)\n",
    "\n",
    "        if num_people < min_group_size:\n",
    "            continue\n",
    "\n",
    "      \n",
    "        totinside_edges = 0\n",
    "        mutual_links = 0\n",
    "        outlinks_outside = 0\n",
    "        incoming_outside = 0\n",
    "\n",
    "        for person in members:\n",
    "            outlist = set(G_friend.successors(person))\n",
    "            inlist = set(G_friend.predecessors(person))\n",
    "            \n",
    "            \n",
    "            for pal in outlist:\n",
    "                if pal in members:\n",
    "                    totinside_edges += 1\n",
    "                    if person in G_friend.successors(pal):\n",
    "                        mutual_links += 0.5  \n",
    "                else:\n",
    "                    outlinks_outside += 1\n",
    "\n",
    "           \n",
    "            for pal in inlist:\n",
    "                if pal not in members:\n",
    "                    incoming_outside += 1\n",
    "\n",
    "       \n",
    "        max_possible_inside = num_people * (num_people - 1)\n",
    "\n",
    "        dens = totinside_edges / max_possible_inside if max_possible_inside > 0 else 0\n",
    "        recipro = mutual_links / totinside_edges if totinside_edges > 0 else 0\n",
    "        leak_ratio = outlinks_outside / totinside_edges if totinside_edges > 0 else float('inf')\n",
    "\n",
    "        \n",
    "        if (dens >= min_density and \n",
    "            leak_ratio <= max_outside_ratio and\n",
    "            recipro >= min_mutuality):\n",
    "\n",
    "            echos.append({\n",
    "                'group': members,\n",
    "                'size': num_people,\n",
    "                'dens': round(dens, 3),\n",
    "                'recipro': round(recipro, 3),\n",
    "                'leak_ratio': round(leak_ratio, 3),\n",
    "                'edges_inside': totinside_edges,\n",
    "                'out_links': outlinks_outside,\n",
    "                'in_links': incoming_outside,\n",
    "            })\n",
    "\n",
    "    return echos\n",
    "\n",
    "\n",
    "detected_echos = detect_echo_chambers_directed(G_fren)\n",
    "print(f\"Found {len(detected_echos)} possible echo chambers.\")\n",
    "for i, ech in enumerate(detected_echos[:3], 1):\n",
    "    print(f\"\\nEcho Chamber {i}:\")\n",
    "    print(f\"  Group: {sorted([int(x) for x in ech['group']])}\")\n",
    "    print(f\"  Size: {ech['size']}\")\n",
    "    print(f\"  Density: {ech['dens']}\")\n",
    "    print(f\"  Reciprocity: {ech['recipro']}\")\n",
    "    print(f\"  Leak Ratio: {ech['leak_ratio']}\")\n",
    "    print(f\"  Edges Inside: {ech['edges_inside']}\")\n",
    "    print(f\"  Outgoing Links: {ech['out_links']}\")\n",
    "    print(f\"  Incoming Links: {ech['in_links']}\")\n"
   ]
  },
  {
   "cell_type": "markdown",
   "id": "fba7875e",
   "metadata": {},
   "source": [
    "Part 3: connectors nodes and bridge edges"
   ]
  },
  {
   "cell_type": "code",
   "execution_count": null,
   "id": "a64c981a",
   "metadata": {},
   "outputs": [
    {
     "name": "stdout",
     "output_type": "stream",
     "text": [
      " Found 14 connector students.\n",
      "Node 779 connects OUT to {1} and IN from {6}\n",
      "Node 147 connects OUT to {1, 6} and IN from {1}\n",
      "Node 407 connects OUT to {1, 6} and IN from {1, 6}\n",
      "Node 674 connects OUT to {0, 6} and IN from {0, 6}\n",
      "Node 327 connects OUT to {4, 5} and IN from {4}\n"
     ]
    }
   ],
   "source": [
    "def find_KONNECTorNodes_directed_strict(G_friend):\n",
    "    comm_list = list(greedy_modularity_communities(G_friend.to_undirected()))\n",
    "\n",
    "    node2comm = {}\n",
    "    for i, comm in enumerate(comm_list):\n",
    "        for n in comm:\n",
    "            node2comm[n] = i\n",
    "\n",
    "    KONNECTorNodes = []\n",
    "\n",
    "    for n in G_friend.nodes():\n",
    "        out_comms = set()\n",
    "        in_comms = set()\n",
    "\n",
    "        for nbr in G_friend.successors(n):\n",
    "            if nbr in node2comm:\n",
    "                out_comms.add(node2comm[nbr])\n",
    "\n",
    "        for nbr in G_friend.predecessors(n):\n",
    "            if nbr in node2comm:\n",
    "                in_comms.add(node2comm[nbr])\n",
    "\n",
    "        own_comm = node2comm.get(n, None)\n",
    "        out_comms.discard(own_comm)\n",
    "        in_comms.discard(own_comm)\n",
    "\n",
    "        \n",
    "        if len(out_comms) >= 1 and len(in_comms) >= 1 and len(out_comms.union(in_comms)) >= 2:\n",
    "            KONNECTorNodes.append({\n",
    "                'node': n,\n",
    "                'out_comms': out_comms,\n",
    "                'in_comms': in_comms,\n",
    "                'num_out': len(out_comms),\n",
    "                'num_in': len(in_comms),\n",
    "                'my_comm': own_comm\n",
    "            })\n",
    "\n",
    "    return KONNECTorNodes\n",
    "\n",
    "\n",
    "directed_connectors_strict = find_KONNECTorNodes_directed_strict(G_fren)\n",
    "print(f\" Found {len(directed_connectors_strict)} connector students.\")\n",
    "for k in directed_connectors_strict[:5]:\n",
    "    print(f\"Node {k['node']} connects OUT to {k['out_comms']} and IN from {k['in_comms']}\")\n"
   ]
  },
  {
   "cell_type": "code",
   "execution_count": 36,
   "id": "c6681d14",
   "metadata": {},
   "outputs": [
    {
     "name": "stdout",
     "output_type": "stream",
     "text": [
      "Top 10 Vital Links by Betweenness \n",
      "\n",
      "Edge (205, 691) with betweenness 0.05625\n",
      "Edge (117, 407) with betweenness 0.0524\n",
      "Edge (691, 883) with betweenness 0.049\n",
      "Edge (272, 441) with betweenness 0.04649\n",
      "Edge (605, 201) with betweenness 0.0452\n",
      "Edge (691, 205) with betweenness 0.04442\n",
      "Edge (691, 245) with betweenness 0.04349\n",
      "Edge (327, 27) with betweenness 0.03862\n",
      "Edge (468, 125) with betweenness 0.03558\n",
      "Edge (343, 101) with betweenness 0.03504\n"
     ]
    }
   ],
   "source": [
    "def detectVITALLINKS(graphFriend, topN=10):\n",
    "   \n",
    "    edgeBetweenness = nx.edge_betweenness_centrality(graphFriend) \n",
    "\n",
    "    sortedEdges = sorted(edgeBetweenness.items(), key=lambda x: x[1], reverse=True)\n",
    "\n",
    "   \n",
    "    topBridgeEdges = []\n",
    "    for edgeInfo in sortedEdges[:topN]:\n",
    "        edgeTuple = edgeInfo[0]\n",
    "        betweennessScore = edgeInfo[1]\n",
    "        bridgeData = {\n",
    "            'edge': edgeTuple,\n",
    "            'betweenness': round(betweennessScore, 5)\n",
    "        }\n",
    "        topBridgeEdges.append(bridgeData)\n",
    "\n",
    "    return topBridgeEdges\n",
    "\n",
    "\n",
    "bridgeResults = detectVITALLINKS(G_fren, topN=10)\n",
    "\n",
    "print(\"Top 10 Vital Links by Betweenness \\n\")\n",
    "for bridge in bridgeResults:\n",
    "    nodeU, nodeV = bridge['edge']\n",
    "    betweennessVal = bridge['betweenness'] \n",
    "    print(f\"Edge ({int(nodeU)}, {int(nodeV)}) with betweenness {betweennessVal}\")\n"
   ]
  }
 ],
 "metadata": {
  "kernelspec": {
   "display_name": "Python 3",
   "language": "python",
   "name": "python3"
  },
  "language_info": {
   "codemirror_mode": {
    "name": "ipython",
    "version": 3
   },
   "file_extension": ".py",
   "mimetype": "text/x-python",
   "name": "python",
   "nbconvert_exporter": "python",
   "pygments_lexer": "ipython3",
   "version": "3.13.1"
  }
 },
 "nbformat": 4,
 "nbformat_minor": 5
}
